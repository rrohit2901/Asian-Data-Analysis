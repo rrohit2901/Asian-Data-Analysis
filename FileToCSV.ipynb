{
 "cells": [
  {
   "cell_type": "code",
   "execution_count": 1,
   "id": "705d4b95",
   "metadata": {},
   "outputs": [],
   "source": [
    "fileName = \"asian_hate_instagram_data/\""
   ]
  },
  {
   "cell_type": "code",
   "execution_count": 10,
   "id": "ce7275b1",
   "metadata": {},
   "outputs": [],
   "source": [
    "import os\n",
    "import json\n",
    "import pandas as pd\n",
    "\n",
    "colList = [\n",
    "    \"platformId\",\n",
    "    \"platform\",\n",
    "    \"date\",\n",
    "    \"updated\",\n",
    "    \"type\",\n",
    "    \"description\",\n",
    "    \"postUrl\",\n",
    "]\n",
    "\n",
    "data = pd.DataFrame(columns = colList)\n",
    "\n",
    "for f in os.listdir(fileName):\n",
    "    if f[-3:]!=\"txt\":\n",
    "        continue\n",
    "    filename = fileName + f\n",
    "    with open(filename, \"r\") as fl:\n",
    "        posts = fl.readlines()\n",
    "        for post in posts:\n",
    "            post = json.loads(post)\n",
    "            for postF in post['result']['posts']:\n",
    "                postAppend = dict()\n",
    "                for key in colList:\n",
    "                    try:\n",
    "                        postAppend[key] = postF[key]\n",
    "                    except:\n",
    "                        postAppend[key] = None\n",
    "                data = data.append(postAppend, ignore_index = True)"
   ]
  },
  {
   "cell_type": "code",
   "execution_count": 11,
   "id": "5ced1f38",
   "metadata": {},
   "outputs": [
    {
     "data": {
      "text/html": [
       "<div>\n",
       "<style scoped>\n",
       "    .dataframe tbody tr th:only-of-type {\n",
       "        vertical-align: middle;\n",
       "    }\n",
       "\n",
       "    .dataframe tbody tr th {\n",
       "        vertical-align: top;\n",
       "    }\n",
       "\n",
       "    .dataframe thead th {\n",
       "        text-align: right;\n",
       "    }\n",
       "</style>\n",
       "<table border=\"1\" class=\"dataframe\">\n",
       "  <thead>\n",
       "    <tr style=\"text-align: right;\">\n",
       "      <th></th>\n",
       "      <th>platformId</th>\n",
       "      <th>platform</th>\n",
       "      <th>date</th>\n",
       "      <th>updated</th>\n",
       "      <th>type</th>\n",
       "      <th>description</th>\n",
       "      <th>postUrl</th>\n",
       "    </tr>\n",
       "  </thead>\n",
       "  <tbody>\n",
       "    <tr>\n",
       "      <th>0</th>\n",
       "      <td>2084409927443750403_5890862555</td>\n",
       "      <td>Instagram</td>\n",
       "      <td>2019-07-09 19:37:28</td>\n",
       "      <td>2022-02-14 12:11:50</td>\n",
       "      <td>photo</td>\n",
       "      <td>Diana Huey, the first woman of color to play A...</td>\n",
       "      <td>https://www.instagram.com/p/BztT8kLlR4D/</td>\n",
       "    </tr>\n",
       "    <tr>\n",
       "      <th>1</th>\n",
       "      <td>2079328991138884152_397202586</td>\n",
       "      <td>Instagram</td>\n",
       "      <td>2019-07-02 19:22:33</td>\n",
       "      <td>2021-08-11 19:14:39</td>\n",
       "      <td>album</td>\n",
       "      <td>A group of seven girlfriends in southeastern C...</td>\n",
       "      <td>https://www.instagram.com/p/BzbQrNgASo4/</td>\n",
       "    </tr>\n",
       "    <tr>\n",
       "      <th>2</th>\n",
       "      <td>2085146498739533083_8588323123</td>\n",
       "      <td>Instagram</td>\n",
       "      <td>2019-07-10 20:00:54</td>\n",
       "      <td>2021-12-08 09:58:27</td>\n",
       "      <td>photo</td>\n",
       "      <td>AARW's 9th Annual Grill Off is coming up next ...</td>\n",
       "      <td>https://www.instagram.com/p/Bzv7bFqBPUb/</td>\n",
       "    </tr>\n",
       "    <tr>\n",
       "      <th>3</th>\n",
       "      <td>2078503639086689288_297831528</td>\n",
       "      <td>Instagram</td>\n",
       "      <td>2019-07-01 16:02:43</td>\n",
       "      <td>2021-12-08 09:45:15</td>\n",
       "      <td>album</td>\n",
       "      <td>oh dear...</td>\n",
       "      <td>https://www.instagram.com/p/BzYVAwgHmwI/</td>\n",
       "    </tr>\n",
       "    <tr>\n",
       "      <th>4</th>\n",
       "      <td>2085433082017522182_397202586</td>\n",
       "      <td>Instagram</td>\n",
       "      <td>2019-07-11 05:35:08</td>\n",
       "      <td>2021-08-11 19:14:25</td>\n",
       "      <td>video</td>\n",
       "      <td>For several years now, Singapore’s Changi Airp...</td>\n",
       "      <td>https://www.instagram.com/p/Bzw8lbIgKIG/</td>\n",
       "    </tr>\n",
       "  </tbody>\n",
       "</table>\n",
       "</div>"
      ],
      "text/plain": [
       "                       platformId   platform                 date  \\\n",
       "0  2084409927443750403_5890862555  Instagram  2019-07-09 19:37:28   \n",
       "1   2079328991138884152_397202586  Instagram  2019-07-02 19:22:33   \n",
       "2  2085146498739533083_8588323123  Instagram  2019-07-10 20:00:54   \n",
       "3   2078503639086689288_297831528  Instagram  2019-07-01 16:02:43   \n",
       "4   2085433082017522182_397202586  Instagram  2019-07-11 05:35:08   \n",
       "\n",
       "               updated   type  \\\n",
       "0  2022-02-14 12:11:50  photo   \n",
       "1  2021-08-11 19:14:39  album   \n",
       "2  2021-12-08 09:58:27  photo   \n",
       "3  2021-12-08 09:45:15  album   \n",
       "4  2021-08-11 19:14:25  video   \n",
       "\n",
       "                                         description  \\\n",
       "0  Diana Huey, the first woman of color to play A...   \n",
       "1  A group of seven girlfriends in southeastern C...   \n",
       "2  AARW's 9th Annual Grill Off is coming up next ...   \n",
       "3                                         oh dear...   \n",
       "4  For several years now, Singapore’s Changi Airp...   \n",
       "\n",
       "                                    postUrl  \n",
       "0  https://www.instagram.com/p/BztT8kLlR4D/  \n",
       "1  https://www.instagram.com/p/BzbQrNgASo4/  \n",
       "2  https://www.instagram.com/p/Bzv7bFqBPUb/  \n",
       "3  https://www.instagram.com/p/BzYVAwgHmwI/  \n",
       "4  https://www.instagram.com/p/Bzw8lbIgKIG/  "
      ]
     },
     "execution_count": 11,
     "metadata": {},
     "output_type": "execute_result"
    }
   ],
   "source": [
    "data.head()"
   ]
  },
  {
   "cell_type": "code",
   "execution_count": 12,
   "id": "b1418556",
   "metadata": {},
   "outputs": [],
   "source": [
    "data.to_csv(\"Processed_Posts.csv\")"
   ]
  },
  {
   "cell_type": "code",
   "execution_count": 13,
   "id": "3f9e75f9",
   "metadata": {},
   "outputs": [
    {
     "data": {
      "text/plain": [
       "(9999, 7)"
      ]
     },
     "execution_count": 13,
     "metadata": {},
     "output_type": "execute_result"
    }
   ],
   "source": [
    "data.shape"
   ]
  },
  {
   "cell_type": "code",
   "execution_count": null,
   "id": "a4f756cc",
   "metadata": {},
   "outputs": [],
   "source": []
  }
 ],
 "metadata": {
  "kernelspec": {
   "display_name": "Python 3 (ipykernel)",
   "language": "python",
   "name": "python3"
  },
  "language_info": {
   "codemirror_mode": {
    "name": "ipython",
    "version": 3
   },
   "file_extension": ".py",
   "mimetype": "text/x-python",
   "name": "python",
   "nbconvert_exporter": "python",
   "pygments_lexer": "ipython3",
   "version": "3.8.10"
  }
 },
 "nbformat": 4,
 "nbformat_minor": 5
}
